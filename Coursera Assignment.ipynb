{
 "cells": [
  {
   "cell_type": "markdown",
   "id": "f56893dd",
   "metadata": {
    "pycharm": {
     "name": "#%% md\n"
    }
   },
   "source": [
    "# My Jupyter Notebook on IBM Watson Studio"
   ]
  },
  {
   "cell_type": "markdown",
   "id": "8706f861",
   "metadata": {
    "pycharm": {
     "name": "#%% md\n"
    }
   },
   "source": [
    "**Artur Dilbarian**\n",
    "\n",
    "Cryptocurrency Trader"
   ]
  },
  {
   "cell_type": "markdown",
   "id": "aeca4ce4",
   "metadata": {
    "pycharm": {
     "name": "#%% md\n"
    }
   },
   "source": [
    "*Data science for me is a game changer in any field that i want to persue, such as: predictive crypto-trading, decision making in business start-up, and collecting and analyzing data for brain-interfaces.*"
   ]
  },
  {
   "cell_type": "markdown",
   "id": "120c947c",
   "metadata": {
    "pycharm": {
     "name": "#%% md\n"
    }
   },
   "source": [
    "### The code below defines 3 variables (x, y, z), then performs a serious of calculations, and prints the result"
   ]
  },
  {
   "cell_type": "code",
   "execution_count": 11,
   "id": "d448248f",
   "metadata": {
    "pycharm": {
     "name": "#%%\n"
    }
   },
   "outputs": [
    {
     "name": "stdout",
     "output_type": "stream",
     "text": [
      "1125\n"
     ]
    }
   ],
   "source": [
    "x = 5;\n",
    "y = 15;\n",
    "z = 2;\n",
    "\n",
    "xyz = x * (y ** z)\n",
    "print(xyz)"
   ]
  },
  {
   "cell_type": "markdown",
   "id": "b190996a",
   "metadata": {
    "pycharm": {
     "name": "#%% md\n"
    }
   },
   "source": [
    "## The Final Cell\n",
    "---\n",
    "Name | Algorithm | Protocol\n",
    "--- | --- | ---\n",
    "Bitcoin | SHA256 | POW \n",
    "Doge | Scrypt | POW\n",
    "Eth | ECDSA | POS\n",
    "\n",
    "* Spot Exchanges:\n",
    "    1. [Binance](https://binance.us);\n",
    "    2. [Coinbase](https://coinbase.us);\n",
    "    3. [FTX](https://ftx.com).\n",
    "* Derivatives:\n",
    "    1. [Binance](https://binance.us);\n",
    "    2. [FTX](https://ftx.com);\n",
    "    3. [OKX](https://www.okx.com)\n",
    "* DEXs:\n",
    "    1. [Uniswap](https://app.uniswap.org/#/swap);\n",
    "    2. [dYdX](https://trade.dydx.exchange/);\n",
    "    3. [Kine Protocol](https://kine.io/)\n",
    "\n",
    "![The Digital Gold](gold.jpg)\n",
    "\n",
    "This code was executed at the <mark>cell ~~below~~ above</mark>:\n",
    "\n",
    "> `xyz = x * (y ** z)`\n",
    "\n"
   ]
  },
  {
   "cell_type": "code",
   "execution_count": null,
   "id": "d53a41d0-fbe4-42e4-b623-ece728549f40",
   "metadata": {
    "pycharm": {
     "name": "#%%\n"
    }
   },
   "outputs": [],
   "source": []
  }
 ],
 "metadata": {
  "kernelspec": {
   "display_name": "Python",
   "language": "python",
   "name": "conda-env-python-py"
  },
  "language_info": {
   "codemirror_mode": {
    "name": "ipython",
    "version": 3
   },
   "file_extension": ".py",
   "mimetype": "text/x-python",
   "name": "python",
   "nbconvert_exporter": "python",
   "pygments_lexer": "ipython3",
   "version": "3.7.12"
  }
 },
 "nbformat": 4,
 "nbformat_minor": 5
}